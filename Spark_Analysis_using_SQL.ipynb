{
  "nbformat": 4,
  "nbformat_minor": 0,
  "metadata": {
    "colab": {
      "provenance": [],
      "mount_file_id": "12-TDI0cMuau0QFLcnJZ2GmHJteuYrvWk",
      "authorship_tag": "ABX9TyOYbZj869aWvsiKvo1AMpOA",
      "include_colab_link": true
    },
    "kernelspec": {
      "name": "python3",
      "display_name": "Python 3"
    },
    "language_info": {
      "name": "python"
    }
  },
  "cells": [
    {
      "cell_type": "markdown",
      "metadata": {
        "id": "view-in-github",
        "colab_type": "text"
      },
      "source": [
        "<a href=\"https://colab.research.google.com/github/MazharSaeedCCT/Integrated-CA1-Sem-2-MSc-/blob/main/Spark_Analysis_using_SQL.ipynb\" target=\"_parent\"><img src=\"https://colab.research.google.com/assets/colab-badge.svg\" alt=\"Open In Colab\"/></a>"
      ]
    },
    {
      "cell_type": "code",
      "execution_count": 1,
      "metadata": {
        "colab": {
          "base_uri": "https://localhost:8080/"
        },
        "id": "FFmQWQCXEonR",
        "outputId": "114e8dfe-1f4c-4e9d-c357-8ccba9f8d6db"
      },
      "outputs": [
        {
          "output_type": "stream",
          "name": "stdout",
          "text": [
            "Requirement already satisfied: pyspark in /usr/local/lib/python3.10/dist-packages (3.5.1)\n",
            "Requirement already satisfied: py4j==0.10.9.7 in /usr/local/lib/python3.10/dist-packages (from pyspark) (0.10.9.7)\n"
          ]
        }
      ],
      "source": [
        "!pip install pyspark"
      ]
    },
    {
      "cell_type": "code",
      "source": [
        "from pyspark.sql import SparkSession\n",
        "\n",
        "# Initialize SparkSession\n",
        "spark = SparkSession.builder \\\n",
        "    .appName(\"Twitter Sentiment Analysis using mysql\") \\\n",
        "    .config(\"spark.sql.legacy.timeParserPolicy\", \"LEGACY\") \\\n",
        "    .getOrCreate()\n",
        "\n",
        "# Read CSV into Spark DataFrame\n",
        "tweets_df = spark.read.csv(\"/content/drive/MyDrive/ProjectTweets.csv\", header=True, inferSchema=True)\n"
      ],
      "metadata": {
        "id": "svKP8a5sPXef"
      },
      "execution_count": 2,
      "outputs": []
    },
    {
      "cell_type": "code",
      "source": [
        "tweets_df.show()"
      ],
      "metadata": {
        "colab": {
          "base_uri": "https://localhost:8080/"
        },
        "id": "ZomgE-2wPoQw",
        "outputId": "74c85877-fc05-4161-c829-a6738acca3b8"
      },
      "execution_count": 3,
      "outputs": [
        {
          "output_type": "stream",
          "name": "stdout",
          "text": [
            "+---+----------+----------------------------+--------+---------------+-------------------------------------------------------------------------------------------------------------------+\n",
            "|  0|1467810369|Mon Apr 06 22:19:45 PDT 2009|NO_QUERY|_TheSpecialOne_|@switchfoot http://twitpic.com/2y1zl - Awww, that's a bummer.  You shoulda got David Carr of Third Day to do it. ;D|\n",
            "+---+----------+----------------------------+--------+---------------+-------------------------------------------------------------------------------------------------------------------+\n",
            "|  1|1467810672|        Mon Apr 06 22:19:...|NO_QUERY|  scotthamilton|                                                                                               is upset that he ...|\n",
            "|  2|1467810917|        Mon Apr 06 22:19:...|NO_QUERY|       mattycus|                                                                                               @Kenichan I dived...|\n",
            "|  3|1467811184|        Mon Apr 06 22:19:...|NO_QUERY|        ElleCTF|                                                                                               my whole body fee...|\n",
            "|  4|1467811193|        Mon Apr 06 22:19:...|NO_QUERY|         Karoli|                                                                                               @nationwideclass ...|\n",
            "|  5|1467811372|        Mon Apr 06 22:20:...|NO_QUERY|       joy_wolf|                                                                                               @Kwesidei not the...|\n",
            "|  6|1467811592|        Mon Apr 06 22:20:...|NO_QUERY|        mybirch|                                                                                                        Need a hug |\n",
            "|  7|1467811594|        Mon Apr 06 22:20:...|NO_QUERY|           coZZ|                                                                                               @LOLTrish hey  lo...|\n",
            "|  8|1467811795|        Mon Apr 06 22:20:...|NO_QUERY|2Hood4Hollywood|                                                                                               @Tatiana_K nope t...|\n",
            "|  9|1467812025|        Mon Apr 06 22:20:...|NO_QUERY|        mimismo|                                                                                               @twittera que me ...|\n",
            "| 10|1467812416|        Mon Apr 06 22:20:...|NO_QUERY| erinx3leannexo|                                                                                               spring break in p...|\n",
            "| 11|1467812579|        Mon Apr 06 22:20:...|NO_QUERY|   pardonlauren|                                                                                               I just re-pierced...|\n",
            "| 12|1467812723|        Mon Apr 06 22:20:...|NO_QUERY|           TLeC|                                                                                               @caregiving I cou...|\n",
            "| 13|1467812771|        Mon Apr 06 22:20:...|NO_QUERY|robrobbierobert|                                                                                               @octolinz16 It it...|\n",
            "| 14|1467812784|        Mon Apr 06 22:20:...|NO_QUERY|    bayofwolves|                                                                                               @smarrison i woul...|\n",
            "| 15|1467812799|        Mon Apr 06 22:20:...|NO_QUERY|     HairByJess|                                                                                               @iamjazzyfizzle I...|\n",
            "| 16|1467812964|        Mon Apr 06 22:20:...|NO_QUERY| lovesongwriter|                                                                                               Hollis' death sce...|\n",
            "| 17|1467813137|        Mon Apr 06 22:20:...|NO_QUERY|       armotley|                                                                                               about to file taxes |\n",
            "| 18|1467813579|        Mon Apr 06 22:20:...|NO_QUERY|     starkissed|                                                                                               @LettyA ahh ive a...|\n",
            "| 19|1467813782|        Mon Apr 06 22:20:...|NO_QUERY|      gi_gi_bee|                                                                                               @FakerPattyPattz ...|\n",
            "| 20|1467813985|        Mon Apr 06 22:20:...|NO_QUERY|         quanvu|                                                                                               @alydesigns i was...|\n",
            "+---+----------+----------------------------+--------+---------------+-------------------------------------------------------------------------------------------------------------------+\n",
            "only showing top 20 rows\n",
            "\n"
          ]
        }
      ]
    },
    {
      "cell_type": "code",
      "source": [
        "tweets_df.printSchema()"
      ],
      "metadata": {
        "colab": {
          "base_uri": "https://localhost:8080/"
        },
        "id": "LUl52rY1PsOv",
        "outputId": "c0ad0439-437d-405e-d441-90d3b328f150"
      },
      "execution_count": 4,
      "outputs": [
        {
          "output_type": "stream",
          "name": "stdout",
          "text": [
            "root\n",
            " |-- 0: integer (nullable = true)\n",
            " |-- 1467810369: long (nullable = true)\n",
            " |-- Mon Apr 06 22:19:45 PDT 2009: string (nullable = true)\n",
            " |-- NO_QUERY: string (nullable = true)\n",
            " |-- _TheSpecialOne_: string (nullable = true)\n",
            " |-- @switchfoot http://twitpic.com/2y1zl - Awww, that's a bummer.  You shoulda got David Carr of Third Day to do it. ;D: string (nullable = true)\n",
            "\n"
          ]
        }
      ]
    },
    {
      "cell_type": "code",
      "source": [
        "# Rename columns to meaningful names\n",
        "from pyspark.sql.functions import col\n",
        "# Rename columns to meaningful names\n",
        "tweets_df = tweets_df.select(\n",
        "    col(\"1467810369\").alias(\"tweet_id\"),\n",
        "    col(\"Mon Apr 06 22:19:45 PDT 2009\").alias(\"timestamp\"),\n",
        "    col(\"NO_QUERY\").alias(\"query\"),\n",
        "    col(\"_TheSpecialOne_\").alias(\"username\"),\n",
        "    col(\"`@switchfoot http://twitpic.com/2y1zl - Awww, that's a bummer.  You shoulda got David Carr of Third Day to do it. ;D`\").alias(\"text\")\n",
        ")\n",
        "\n",
        "# Display the schema and first few rows of the DataFrame\n",
        "tweets_df.printSchema()\n",
        "tweets_df.show(5, truncate=False)"
      ],
      "metadata": {
        "colab": {
          "base_uri": "https://localhost:8080/"
        },
        "id": "Ol0jQiyLPsLS",
        "outputId": "333c113b-1045-4cfb-83f0-1f5014696d9f"
      },
      "execution_count": 5,
      "outputs": [
        {
          "output_type": "stream",
          "name": "stdout",
          "text": [
            "root\n",
            " |-- tweet_id: long (nullable = true)\n",
            " |-- timestamp: string (nullable = true)\n",
            " |-- query: string (nullable = true)\n",
            " |-- username: string (nullable = true)\n",
            " |-- text: string (nullable = true)\n",
            "\n",
            "+----------+----------------------------+--------+-------------+---------------------------------------------------------------------------------------------------------------+\n",
            "|tweet_id  |timestamp                   |query   |username     |text                                                                                                           |\n",
            "+----------+----------------------------+--------+-------------+---------------------------------------------------------------------------------------------------------------+\n",
            "|1467810672|Mon Apr 06 22:19:49 PDT 2009|NO_QUERY|scotthamilton|is upset that he can't update his Facebook by texting it... and might cry as a result  School today also. Blah!|\n",
            "|1467810917|Mon Apr 06 22:19:53 PDT 2009|NO_QUERY|mattycus     |@Kenichan I dived many times for the ball. Managed to save 50%  The rest go out of bounds                      |\n",
            "|1467811184|Mon Apr 06 22:19:57 PDT 2009|NO_QUERY|ElleCTF      |my whole body feels itchy and like its on fire                                                                 |\n",
            "|1467811193|Mon Apr 06 22:19:57 PDT 2009|NO_QUERY|Karoli       |@nationwideclass no, it's not behaving at all. i'm mad. why am i here? because I can't see you all over there. |\n",
            "|1467811372|Mon Apr 06 22:20:00 PDT 2009|NO_QUERY|joy_wolf     |@Kwesidei not the whole crew                                                                                   |\n",
            "+----------+----------------------------+--------+-------------+---------------------------------------------------------------------------------------------------------------+\n",
            "only showing top 5 rows\n",
            "\n"
          ]
        }
      ]
    },
    {
      "cell_type": "code",
      "source": [
        "tweets_df.show()"
      ],
      "metadata": {
        "colab": {
          "base_uri": "https://localhost:8080/"
        },
        "id": "asUee5rsPsIq",
        "outputId": "6b9e97d5-3e12-4e1b-933a-c10bb0b5d251"
      },
      "execution_count": 6,
      "outputs": [
        {
          "output_type": "stream",
          "name": "stdout",
          "text": [
            "+----------+--------------------+--------+---------------+--------------------+\n",
            "|  tweet_id|           timestamp|   query|       username|                text|\n",
            "+----------+--------------------+--------+---------------+--------------------+\n",
            "|1467810672|Mon Apr 06 22:19:...|NO_QUERY|  scotthamilton|is upset that he ...|\n",
            "|1467810917|Mon Apr 06 22:19:...|NO_QUERY|       mattycus|@Kenichan I dived...|\n",
            "|1467811184|Mon Apr 06 22:19:...|NO_QUERY|        ElleCTF|my whole body fee...|\n",
            "|1467811193|Mon Apr 06 22:19:...|NO_QUERY|         Karoli|@nationwideclass ...|\n",
            "|1467811372|Mon Apr 06 22:20:...|NO_QUERY|       joy_wolf|@Kwesidei not the...|\n",
            "|1467811592|Mon Apr 06 22:20:...|NO_QUERY|        mybirch|         Need a hug |\n",
            "|1467811594|Mon Apr 06 22:20:...|NO_QUERY|           coZZ|@LOLTrish hey  lo...|\n",
            "|1467811795|Mon Apr 06 22:20:...|NO_QUERY|2Hood4Hollywood|@Tatiana_K nope t...|\n",
            "|1467812025|Mon Apr 06 22:20:...|NO_QUERY|        mimismo|@twittera que me ...|\n",
            "|1467812416|Mon Apr 06 22:20:...|NO_QUERY| erinx3leannexo|spring break in p...|\n",
            "|1467812579|Mon Apr 06 22:20:...|NO_QUERY|   pardonlauren|I just re-pierced...|\n",
            "|1467812723|Mon Apr 06 22:20:...|NO_QUERY|           TLeC|@caregiving I cou...|\n",
            "|1467812771|Mon Apr 06 22:20:...|NO_QUERY|robrobbierobert|@octolinz16 It it...|\n",
            "|1467812784|Mon Apr 06 22:20:...|NO_QUERY|    bayofwolves|@smarrison i woul...|\n",
            "|1467812799|Mon Apr 06 22:20:...|NO_QUERY|     HairByJess|@iamjazzyfizzle I...|\n",
            "|1467812964|Mon Apr 06 22:20:...|NO_QUERY| lovesongwriter|Hollis' death sce...|\n",
            "|1467813137|Mon Apr 06 22:20:...|NO_QUERY|       armotley|about to file taxes |\n",
            "|1467813579|Mon Apr 06 22:20:...|NO_QUERY|     starkissed|@LettyA ahh ive a...|\n",
            "|1467813782|Mon Apr 06 22:20:...|NO_QUERY|      gi_gi_bee|@FakerPattyPattz ...|\n",
            "|1467813985|Mon Apr 06 22:20:...|NO_QUERY|         quanvu|@alydesigns i was...|\n",
            "+----------+--------------------+--------+---------------+--------------------+\n",
            "only showing top 20 rows\n",
            "\n"
          ]
        }
      ]
    },
    {
      "cell_type": "code",
      "source": [
        "tweets_df.printSchema()"
      ],
      "metadata": {
        "colab": {
          "base_uri": "https://localhost:8080/"
        },
        "id": "hQ3nO3OoPsGD",
        "outputId": "1fea241e-5b34-499a-ec5c-e0f3dadfd611"
      },
      "execution_count": 7,
      "outputs": [
        {
          "output_type": "stream",
          "name": "stdout",
          "text": [
            "root\n",
            " |-- tweet_id: long (nullable = true)\n",
            " |-- timestamp: string (nullable = true)\n",
            " |-- query: string (nullable = true)\n",
            " |-- username: string (nullable = true)\n",
            " |-- text: string (nullable = true)\n",
            "\n"
          ]
        }
      ]
    },
    {
      "cell_type": "code",
      "source": [
        "# Register the DataFrame as a temporary table\n",
        "tweets_df.createOrReplaceTempView(\"tweets_table\")\n",
        "\n",
        "# Define the target database name\n",
        "target_database = \"spark\"\n",
        "\n",
        "# Save the DataFrame as a table in the target database\n",
        "spark.sql(f\"CREATE DATABASE IF NOT EXISTS {target_database}\")\n",
        "spark.sql(f\"USE {target_database}\")\n",
        "tweets_df.write.saveAsTable(\"data\", mode=\"overwrite\")\n",
        "\n"
      ],
      "metadata": {
        "id": "fPwW-prlaYWV"
      },
      "execution_count": 9,
      "outputs": []
    },
    {
      "cell_type": "code",
      "source": [
        "# Define the database and table names\n",
        "database = \"spark\"\n",
        "table = \"data\"\n",
        "\n",
        "# Switch to the specified database\n",
        "spark.sql(f\"USE {database}\")\n",
        "\n",
        "# Show the contents of the table\n",
        "table_contents = spark.sql(f\"SELECT * FROM {table}\")\n",
        "table_contents.show()"
      ],
      "metadata": {
        "colab": {
          "base_uri": "https://localhost:8080/"
        },
        "id": "UHYSWqvuWr0Z",
        "outputId": "730407b6-d4a6-4661-e6a9-42697b2328be"
      },
      "execution_count": 10,
      "outputs": [
        {
          "output_type": "stream",
          "name": "stdout",
          "text": [
            "+----------+--------------------+--------+---------------+--------------------+\n",
            "|  tweet_id|           timestamp|   query|       username|                text|\n",
            "+----------+--------------------+--------+---------------+--------------------+\n",
            "|1467810672|Mon Apr 06 22:19:...|NO_QUERY|  scotthamilton|is upset that he ...|\n",
            "|1467810917|Mon Apr 06 22:19:...|NO_QUERY|       mattycus|@Kenichan I dived...|\n",
            "|1467811184|Mon Apr 06 22:19:...|NO_QUERY|        ElleCTF|my whole body fee...|\n",
            "|1467811193|Mon Apr 06 22:19:...|NO_QUERY|         Karoli|@nationwideclass ...|\n",
            "|1467811372|Mon Apr 06 22:20:...|NO_QUERY|       joy_wolf|@Kwesidei not the...|\n",
            "|1467811592|Mon Apr 06 22:20:...|NO_QUERY|        mybirch|         Need a hug |\n",
            "|1467811594|Mon Apr 06 22:20:...|NO_QUERY|           coZZ|@LOLTrish hey  lo...|\n",
            "|1467811795|Mon Apr 06 22:20:...|NO_QUERY|2Hood4Hollywood|@Tatiana_K nope t...|\n",
            "|1467812025|Mon Apr 06 22:20:...|NO_QUERY|        mimismo|@twittera que me ...|\n",
            "|1467812416|Mon Apr 06 22:20:...|NO_QUERY| erinx3leannexo|spring break in p...|\n",
            "|1467812579|Mon Apr 06 22:20:...|NO_QUERY|   pardonlauren|I just re-pierced...|\n",
            "|1467812723|Mon Apr 06 22:20:...|NO_QUERY|           TLeC|@caregiving I cou...|\n",
            "|1467812771|Mon Apr 06 22:20:...|NO_QUERY|robrobbierobert|@octolinz16 It it...|\n",
            "|1467812784|Mon Apr 06 22:20:...|NO_QUERY|    bayofwolves|@smarrison i woul...|\n",
            "|1467812799|Mon Apr 06 22:20:...|NO_QUERY|     HairByJess|@iamjazzyfizzle I...|\n",
            "|1467812964|Mon Apr 06 22:20:...|NO_QUERY| lovesongwriter|Hollis' death sce...|\n",
            "|1467813137|Mon Apr 06 22:20:...|NO_QUERY|       armotley|about to file taxes |\n",
            "|1467813579|Mon Apr 06 22:20:...|NO_QUERY|     starkissed|@LettyA ahh ive a...|\n",
            "|1467813782|Mon Apr 06 22:20:...|NO_QUERY|      gi_gi_bee|@FakerPattyPattz ...|\n",
            "|1467813985|Mon Apr 06 22:20:...|NO_QUERY|         quanvu|@alydesigns i was...|\n",
            "+----------+--------------------+--------+---------------+--------------------+\n",
            "only showing top 20 rows\n",
            "\n"
          ]
        }
      ]
    },
    {
      "cell_type": "code",
      "source": [
        "from pyspark.sql.functions import col, udf\n",
        "from pyspark.sql.types import StringType\n",
        "from textblob import TextBlob\n",
        "import re"
      ],
      "metadata": {
        "id": "YhhPC7Cjb4-M"
      },
      "execution_count": 11,
      "outputs": []
    },
    {
      "cell_type": "code",
      "source": [
        "# Define a user-defined function (UDF) for text cleaning\n",
        "def clean_text(text):\n",
        "    # Convert text to lowercase\n",
        "    text = text.lower()\n",
        "    # Remove special characters, punctuation, and links using regex\n",
        "    text = re.sub(r'[^a-zA-Z\\s]', '', text)\n",
        "    # Remove extra whitespaces\n",
        "    text = ' '.join(text.split())\n",
        "    return text"
      ],
      "metadata": {
        "id": "Vu5uVUOxcNFj"
      },
      "execution_count": 12,
      "outputs": []
    },
    {
      "cell_type": "code",
      "source": [
        "# Register the UDF\n",
        "clean_text_udf = udf(clean_text, StringType())"
      ],
      "metadata": {
        "id": "sYm_wrSqcPqj"
      },
      "execution_count": 13,
      "outputs": []
    },
    {
      "cell_type": "code",
      "source": [
        "# Apply the UDF to the 'text' column to clean the text data\n",
        "tweets_df = table_contents.withColumn(\"clean_text\", clean_text_udf(col(\"text\")))\n"
      ],
      "metadata": {
        "id": "76yeItsjcSv6"
      },
      "execution_count": 14,
      "outputs": []
    },
    {
      "cell_type": "code",
      "source": [
        "# Filter out tweets with empty or null cleaned text\n",
        "tweets_df = tweets_df.filter(col(\"clean_text\").isNotNull() & (col(\"clean_text\") != \"\"))\n"
      ],
      "metadata": {
        "id": "3Orko_ikcZJW"
      },
      "execution_count": 15,
      "outputs": []
    },
    {
      "cell_type": "code",
      "source": [
        "# Define a user-defined function (UDF) to perform sentiment analysis using TextBlob\n",
        "def analyze_sentiment(text):\n",
        "    # Perform sentiment analysis using TextBlob\n",
        "    analysis = TextBlob(text)\n",
        "    # Return the sentiment polarity as a string\n",
        "    return \"positive\" if analysis.sentiment.polarity > 0 else \"negative\" if analysis.sentiment.polarity < 0 else \"neutral\"\n"
      ],
      "metadata": {
        "id": "v9MN9BnhcbQ3"
      },
      "execution_count": 16,
      "outputs": []
    },
    {
      "cell_type": "code",
      "source": [
        "# Register the UDF\n",
        "sentiment_udf = udf(analyze_sentiment, StringType())"
      ],
      "metadata": {
        "id": "b2rtY7tScdfc"
      },
      "execution_count": 17,
      "outputs": []
    },
    {
      "cell_type": "code",
      "source": [
        "# Apply the UDF to the 'clean_text' column to add a new column 'sentiment'\n",
        "tweets_df = tweets_df.withColumn(\"sentiment\", sentiment_udf(col(\"clean_text\")))\n"
      ],
      "metadata": {
        "id": "wZqlhdcXcfsu"
      },
      "execution_count": 18,
      "outputs": []
    },
    {
      "cell_type": "code",
      "source": [
        "# Display the schema and first few rows of the DataFrame with sentiment analysis results\n",
        "tweets_df.printSchema()\n",
        "tweets_df.show(5)"
      ],
      "metadata": {
        "colab": {
          "base_uri": "https://localhost:8080/"
        },
        "id": "PZBRP0FTchkt",
        "outputId": "f479b0be-9cd2-4102-df56-07f1cd4c7585"
      },
      "execution_count": 19,
      "outputs": [
        {
          "output_type": "stream",
          "name": "stdout",
          "text": [
            "root\n",
            " |-- tweet_id: long (nullable = true)\n",
            " |-- timestamp: string (nullable = true)\n",
            " |-- query: string (nullable = true)\n",
            " |-- username: string (nullable = true)\n",
            " |-- text: string (nullable = true)\n",
            " |-- clean_text: string (nullable = true)\n",
            " |-- sentiment: string (nullable = true)\n",
            "\n",
            "+----------+--------------------+--------+-------------+--------------------+--------------------+---------+\n",
            "|  tweet_id|           timestamp|   query|     username|                text|          clean_text|sentiment|\n",
            "+----------+--------------------+--------+-------------+--------------------+--------------------+---------+\n",
            "|1467810672|Mon Apr 06 22:19:...|NO_QUERY|scotthamilton|is upset that he ...|is upset that he ...|  neutral|\n",
            "|1467810917|Mon Apr 06 22:19:...|NO_QUERY|     mattycus|@Kenichan I dived...|kenichan i dived ...| positive|\n",
            "|1467811184|Mon Apr 06 22:19:...|NO_QUERY|      ElleCTF|my whole body fee...|my whole body fee...| positive|\n",
            "|1467811193|Mon Apr 06 22:19:...|NO_QUERY|       Karoli|@nationwideclass ...|nationwideclass n...| negative|\n",
            "|1467811372|Mon Apr 06 22:20:...|NO_QUERY|     joy_wolf|@Kwesidei not the...|kwesidei not the ...| positive|\n",
            "+----------+--------------------+--------+-------------+--------------------+--------------------+---------+\n",
            "only showing top 5 rows\n",
            "\n"
          ]
        }
      ]
    },
    {
      "cell_type": "code",
      "source": [
        "# Display only the \"timestamp\" column\n",
        "tweets_df.select(\"timestamp\").show(5, truncate=False)\n"
      ],
      "metadata": {
        "colab": {
          "base_uri": "https://localhost:8080/"
        },
        "id": "ZkhLtxIzcjmw",
        "outputId": "f6ff48d7-7e0f-4c4f-9aec-0df374ce9845"
      },
      "execution_count": 20,
      "outputs": [
        {
          "output_type": "stream",
          "name": "stdout",
          "text": [
            "+----------------------------+\n",
            "|timestamp                   |\n",
            "+----------------------------+\n",
            "|Mon Apr 06 22:19:49 PDT 2009|\n",
            "|Mon Apr 06 22:19:53 PDT 2009|\n",
            "|Mon Apr 06 22:19:57 PDT 2009|\n",
            "|Mon Apr 06 22:19:57 PDT 2009|\n",
            "|Mon Apr 06 22:20:00 PDT 2009|\n",
            "+----------------------------+\n",
            "only showing top 5 rows\n",
            "\n"
          ]
        }
      ]
    },
    {
      "cell_type": "code",
      "source": [
        "# Calculate value counts for the 'name' column\n",
        "value_counts = tweets_df.groupBy(\"sentiment\").count().orderBy(\"sentiment\", ascending=False)\n",
        "\n",
        "# Show value counts\n",
        "value_counts.show()"
      ],
      "metadata": {
        "colab": {
          "base_uri": "https://localhost:8080/"
        },
        "id": "V3AqO4BscoR9",
        "outputId": "33d70192-f95a-4f26-bc00-68990088f42a"
      },
      "execution_count": 21,
      "outputs": [
        {
          "output_type": "stream",
          "name": "stdout",
          "text": [
            "+---------+------+\n",
            "|sentiment| count|\n",
            "+---------+------+\n",
            "| positive|687006|\n",
            "|  neutral|569160|\n",
            "| negative|343833|\n",
            "+---------+------+\n",
            "\n"
          ]
        }
      ]
    },
    {
      "cell_type": "code",
      "source": [
        "tweets_df.printSchema()"
      ],
      "metadata": {
        "colab": {
          "base_uri": "https://localhost:8080/"
        },
        "id": "jdQ96NWHcqqW",
        "outputId": "34eeddf0-42c1-4050-fe92-02151cef6187"
      },
      "execution_count": 22,
      "outputs": [
        {
          "output_type": "stream",
          "name": "stdout",
          "text": [
            "root\n",
            " |-- tweet_id: long (nullable = true)\n",
            " |-- timestamp: string (nullable = true)\n",
            " |-- query: string (nullable = true)\n",
            " |-- username: string (nullable = true)\n",
            " |-- text: string (nullable = true)\n",
            " |-- clean_text: string (nullable = true)\n",
            " |-- sentiment: string (nullable = true)\n",
            "\n"
          ]
        }
      ]
    },
    {
      "cell_type": "code",
      "source": [
        "from pyspark.sql import functions as F\n",
        "from pyspark.sql.window import Window\n",
        "from pyspark.ml.feature import VectorAssembler\n",
        "from pyspark.ml.regression import LinearRegression\n",
        "\n",
        "# Step 1: Preprocess the data\n",
        "tweets_df = tweets_df.withColumn(\"timestamp\", F.to_timestamp(\"timestamp\", \"EEE MMM dd HH:mm:ss z yyyy\"))\n",
        "\n",
        "# Handle missing values if any\n",
        "tweets_df = tweets_df.dropna()"
      ],
      "metadata": {
        "id": "jARyE3vpeO6G"
      },
      "execution_count": 23,
      "outputs": []
    },
    {
      "cell_type": "code",
      "source": [
        "# Display only the \"timestamp\" column\n",
        "tweets_df.select(\"timestamp\").show(5, truncate=False)\n"
      ],
      "metadata": {
        "colab": {
          "base_uri": "https://localhost:8080/"
        },
        "id": "jHMsv2_GeS16",
        "outputId": "ad273522-e5e7-4701-e062-bf50d34e9fc8"
      },
      "execution_count": 24,
      "outputs": [
        {
          "output_type": "stream",
          "name": "stdout",
          "text": [
            "+-------------------+\n",
            "|timestamp          |\n",
            "+-------------------+\n",
            "|2009-04-07 05:19:49|\n",
            "|2009-04-07 05:19:53|\n",
            "|2009-04-07 05:19:57|\n",
            "|2009-04-07 05:19:57|\n",
            "|2009-04-07 05:20:00|\n",
            "+-------------------+\n",
            "only showing top 5 rows\n",
            "\n"
          ]
        }
      ]
    },
    {
      "cell_type": "code",
      "source": [
        "# Ensure the dataset is sorted by timestamp\n",
        "tweets_df = tweets_df.orderBy(\"timestamp\")"
      ],
      "metadata": {
        "id": "Ztklp9PheVzR"
      },
      "execution_count": 25,
      "outputs": []
    },
    {
      "cell_type": "code",
      "source": [
        "# Display only the \"timestamp\" column\n",
        "tweets_df.select(\"timestamp\").show(5, truncate=False)\n"
      ],
      "metadata": {
        "colab": {
          "base_uri": "https://localhost:8080/"
        },
        "id": "pBarA5rZeZL8",
        "outputId": "cce421d0-3bcd-488b-ca65-79ef745b412e"
      },
      "execution_count": 26,
      "outputs": [
        {
          "output_type": "stream",
          "name": "stdout",
          "text": [
            "+-------------------+\n",
            "|timestamp          |\n",
            "+-------------------+\n",
            "|2009-04-07 05:19:49|\n",
            "|2009-04-07 05:19:53|\n",
            "|2009-04-07 05:19:57|\n",
            "|2009-04-07 05:19:57|\n",
            "|2009-04-07 05:20:00|\n",
            "+-------------------+\n",
            "only showing top 5 rows\n",
            "\n"
          ]
        }
      ]
    },
    {
      "cell_type": "code",
      "source": [
        "!pip install pmdarima\n"
      ],
      "metadata": {
        "colab": {
          "base_uri": "https://localhost:8080/"
        },
        "id": "nq6-GDMnebEL",
        "outputId": "e18680a0-b7d8-4ac6-ca98-9055c24c8100"
      },
      "execution_count": 27,
      "outputs": [
        {
          "output_type": "stream",
          "name": "stdout",
          "text": [
            "Collecting pmdarima\n",
            "  Downloading pmdarima-2.0.4-cp310-cp310-manylinux_2_17_x86_64.manylinux2014_x86_64.manylinux_2_28_x86_64.whl (2.1 MB)\n",
            "\u001b[2K     \u001b[90m━━━━━━━━━━━━━━━━━━━━━━━━━━━━━━━━━━━━━━━━\u001b[0m \u001b[32m2.1/2.1 MB\u001b[0m \u001b[31m10.3 MB/s\u001b[0m eta \u001b[36m0:00:00\u001b[0m\n",
            "\u001b[?25hRequirement already satisfied: joblib>=0.11 in /usr/local/lib/python3.10/dist-packages (from pmdarima) (1.4.2)\n",
            "Requirement already satisfied: Cython!=0.29.18,!=0.29.31,>=0.29 in /usr/local/lib/python3.10/dist-packages (from pmdarima) (3.0.10)\n",
            "Requirement already satisfied: numpy>=1.21.2 in /usr/local/lib/python3.10/dist-packages (from pmdarima) (1.25.2)\n",
            "Requirement already satisfied: pandas>=0.19 in /usr/local/lib/python3.10/dist-packages (from pmdarima) (2.0.3)\n",
            "Requirement already satisfied: scikit-learn>=0.22 in /usr/local/lib/python3.10/dist-packages (from pmdarima) (1.2.2)\n",
            "Requirement already satisfied: scipy>=1.3.2 in /usr/local/lib/python3.10/dist-packages (from pmdarima) (1.11.4)\n",
            "Requirement already satisfied: statsmodels>=0.13.2 in /usr/local/lib/python3.10/dist-packages (from pmdarima) (0.14.2)\n",
            "Requirement already satisfied: urllib3 in /usr/local/lib/python3.10/dist-packages (from pmdarima) (2.0.7)\n",
            "Requirement already satisfied: setuptools!=50.0.0,>=38.6.0 in /usr/local/lib/python3.10/dist-packages (from pmdarima) (67.7.2)\n",
            "Requirement already satisfied: packaging>=17.1 in /usr/local/lib/python3.10/dist-packages (from pmdarima) (24.0)\n",
            "Requirement already satisfied: python-dateutil>=2.8.2 in /usr/local/lib/python3.10/dist-packages (from pandas>=0.19->pmdarima) (2.8.2)\n",
            "Requirement already satisfied: pytz>=2020.1 in /usr/local/lib/python3.10/dist-packages (from pandas>=0.19->pmdarima) (2023.4)\n",
            "Requirement already satisfied: tzdata>=2022.1 in /usr/local/lib/python3.10/dist-packages (from pandas>=0.19->pmdarima) (2024.1)\n",
            "Requirement already satisfied: threadpoolctl>=2.0.0 in /usr/local/lib/python3.10/dist-packages (from scikit-learn>=0.22->pmdarima) (3.5.0)\n",
            "Requirement already satisfied: patsy>=0.5.6 in /usr/local/lib/python3.10/dist-packages (from statsmodels>=0.13.2->pmdarima) (0.5.6)\n",
            "Requirement already satisfied: six in /usr/local/lib/python3.10/dist-packages (from patsy>=0.5.6->statsmodels>=0.13.2->pmdarima) (1.16.0)\n",
            "Installing collected packages: pmdarima\n",
            "Successfully installed pmdarima-2.0.4\n"
          ]
        }
      ]
    },
    {
      "cell_type": "code",
      "source": [
        "# Convert timestamp to numerical value for linear regression\n",
        "tweets_df = tweets_df.withColumn(\"timestamp_numeric\", F.unix_timestamp(\"timestamp\"))\n"
      ],
      "metadata": {
        "id": "MX5liaihhMOZ"
      },
      "execution_count": 28,
      "outputs": []
    },
    {
      "cell_type": "code",
      "source": [
        "from pyspark.ml.feature import VectorAssembler, StringIndexer\n",
        "from pyspark.ml.regression import LinearRegression\n",
        "import pyspark.sql.functions as F\n"
      ],
      "metadata": {
        "id": "0iT9-sSTqvkf"
      },
      "execution_count": 41,
      "outputs": []
    },
    {
      "cell_type": "code",
      "source": [
        "# Convert sentiment labels to numeric indices\n",
        "indexer = StringIndexer(inputCol=\"sentiment\", outputCol=\"sentiment_index\")\n",
        "indexed_data = indexer.fit(tweets_df).transform(tweets_df)"
      ],
      "metadata": {
        "id": "3M1k8yRlqrur"
      },
      "execution_count": 42,
      "outputs": []
    },
    {
      "cell_type": "code",
      "source": [
        "# Assemble features\n",
        "feature_columns = [\"timestamp_numeric\"]\n",
        "vector_assembler = VectorAssembler(inputCols=feature_columns, outputCol=\"features\")\n",
        "# indexed_data = vector_assembler.transform(indexed_data)\n"
      ],
      "metadata": {
        "id": "yPL9NTjVhQAN"
      },
      "execution_count": 55,
      "outputs": []
    },
    {
      "cell_type": "code",
      "source": [
        "tweets_df.show()"
      ],
      "metadata": {
        "colab": {
          "base_uri": "https://localhost:8080/"
        },
        "id": "0YIAmdG5huH1",
        "outputId": "c7eabb8d-f865-40d6-ad22-0c7f34074805"
      },
      "execution_count": 44,
      "outputs": [
        {
          "output_type": "stream",
          "name": "stdout",
          "text": [
            "+----------+-------------------+--------+---------------+--------------------+--------------------+---------+-----------------+---------------+\n",
            "|  tweet_id|          timestamp|   query|       username|                text|          clean_text|sentiment|timestamp_numeric|       features|\n",
            "+----------+-------------------+--------+---------------+--------------------+--------------------+---------+-----------------+---------------+\n",
            "|1467810672|2009-04-07 05:19:49|NO_QUERY|  scotthamilton|is upset that he ...|is upset that he ...|  neutral|       1239081589|[1.239081589E9]|\n",
            "|1467810917|2009-04-07 05:19:53|NO_QUERY|       mattycus|@Kenichan I dived...|kenichan i dived ...| positive|       1239081593|[1.239081593E9]|\n",
            "|1467811184|2009-04-07 05:19:57|NO_QUERY|        ElleCTF|my whole body fee...|my whole body fee...| positive|       1239081597|[1.239081597E9]|\n",
            "|1467811193|2009-04-07 05:19:57|NO_QUERY|         Karoli|@nationwideclass ...|nationwideclass n...| negative|       1239081597|[1.239081597E9]|\n",
            "|1467811372|2009-04-07 05:20:00|NO_QUERY|       joy_wolf|@Kwesidei not the...|kwesidei not the ...| positive|       1239081600|  [1.2390816E9]|\n",
            "|1467811592|2009-04-07 05:20:03|NO_QUERY|        mybirch|         Need a hug |          need a hug|  neutral|       1239081603|[1.239081603E9]|\n",
            "|1467811594|2009-04-07 05:20:03|NO_QUERY|           coZZ|@LOLTrish hey  lo...|loltrish hey long...| positive|       1239081603|[1.239081603E9]|\n",
            "|1467811795|2009-04-07 05:20:05|NO_QUERY|2Hood4Hollywood|@Tatiana_K nope t...|tatianak nope the...|  neutral|       1239081605|[1.239081605E9]|\n",
            "|1467812025|2009-04-07 05:20:09|NO_QUERY|        mimismo|@twittera que me ...|twittera que me m...|  neutral|       1239081609|[1.239081609E9]|\n",
            "|1467812416|2009-04-07 05:20:16|NO_QUERY| erinx3leannexo|spring break in p...|spring break in p...| negative|       1239081616|[1.239081616E9]|\n",
            "|1467812579|2009-04-07 05:20:17|NO_QUERY|   pardonlauren|I just re-pierced...|i just repierced ...|  neutral|       1239081617|[1.239081617E9]|\n",
            "|1467812723|2009-04-07 05:20:19|NO_QUERY|           TLeC|@caregiving I cou...|caregiving i coul...|  neutral|       1239081619|[1.239081619E9]|\n",
            "|1467812771|2009-04-07 05:20:19|NO_QUERY|robrobbierobert|@octolinz16 It it...|octolinz it it co...|  neutral|       1239081619|[1.239081619E9]|\n",
            "|1467812784|2009-04-07 05:20:20|NO_QUERY|    bayofwolves|@smarrison i woul...|smarrison i would...| positive|       1239081620| [1.23908162E9]|\n",
            "|1467812799|2009-04-07 05:20:20|NO_QUERY|     HairByJess|@iamjazzyfizzle I...|iamjazzyfizzle i ...|  neutral|       1239081620| [1.23908162E9]|\n",
            "|1467812964|2009-04-07 05:20:22|NO_QUERY| lovesongwriter|Hollis' death sce...|hollis death scen...|  neutral|       1239081622|[1.239081622E9]|\n",
            "|1467813137|2009-04-07 05:20:25|NO_QUERY|       armotley|about to file taxes | about to file taxes|  neutral|       1239081625|[1.239081625E9]|\n",
            "|1467813579|2009-04-07 05:20:31|NO_QUERY|     starkissed|@LettyA ahh ive a...|lettya ahh ive al...| positive|       1239081631|[1.239081631E9]|\n",
            "|1467813782|2009-04-07 05:20:34|NO_QUERY|      gi_gi_bee|@FakerPattyPattz ...|fakerpattypattz o...|  neutral|       1239081634|[1.239081634E9]|\n",
            "|1467813985|2009-04-07 05:20:37|NO_QUERY|         quanvu|@alydesigns i was...|alydesigns i was ...| positive|       1239081637|[1.239081637E9]|\n",
            "+----------+-------------------+--------+---------------+--------------------+--------------------+---------+-----------------+---------------+\n",
            "only showing top 20 rows\n",
            "\n"
          ]
        }
      ]
    },
    {
      "cell_type": "code",
      "source": [
        "# Train-Test Split\n",
        "(train_data, test_data) = indexed_data.randomSplit([0.8, 0.2], seed=42)\n"
      ],
      "metadata": {
        "id": "Mp0xIFxQhaRM"
      },
      "execution_count": 46,
      "outputs": []
    },
    {
      "cell_type": "code",
      "source": [
        "# Define Linear Regression model\n",
        "lr = LinearRegression(featuresCol=\"features\", labelCol=\"sentiment_index\")\n"
      ],
      "metadata": {
        "id": "gT2r4VKd5SX9"
      },
      "execution_count": 47,
      "outputs": []
    },
    {
      "cell_type": "code",
      "source": [
        "# Train the model\n",
        "lr_model = lr.fit(train_data.select(\"features\", \"sentiment_index\"))\n"
      ],
      "metadata": {
        "id": "lBw_YVv45Uov"
      },
      "execution_count": 48,
      "outputs": []
    },
    {
      "cell_type": "code",
      "source": [
        "# Make predictions\n",
        "predictions_lr = lr_model.transform(test_data)\n",
        "\n",
        "# Show predictions\n",
        "predictions_lr.select(\"sentiment_index\", \"prediction\").show()\n"
      ],
      "metadata": {
        "colab": {
          "base_uri": "https://localhost:8080/"
        },
        "id": "BKKE_spy5W30",
        "outputId": "afa3cd55-cd1f-41b5-80b1-e0ad51cb181d"
      },
      "execution_count": 49,
      "outputs": [
        {
          "output_type": "stream",
          "name": "stdout",
          "text": [
            "+---------------+------------------+\n",
            "|sentiment_index|        prediction|\n",
            "+---------------+------------------+\n",
            "|            0.0|0.6050889396270733|\n",
            "|            0.0|0.6050891706995642|\n",
            "|            1.0|0.6050894017720481|\n",
            "|            0.0|0.6050898254049457|\n",
            "|            0.0|0.6050904801103272|\n",
            "|            1.0|0.6050906341586497|\n",
            "|            0.0|0.6050916354727605|\n",
            "|            2.0|0.6050924057143803|\n",
            "|            1.0|0.6050939076855499|\n",
            "|            0.0|0.6050939461976341|\n",
            "|            2.0|0.6050941772701179|\n",
            "|            2.0|0.6050945623909314|\n",
            "|            2.0|0.6050946779271769|\n",
            "|            0.0|0.6050954096567196|\n",
            "|            0.0|0.6050954866808809|\n",
            "|            0.0|0.6050955637050421|\n",
            "|            1.0| 0.605095794777526|\n",
            "|            0.0|0.6050964494829074|\n",
            "|            2.0|0.6050966805553983|\n",
            "|            1.0|0.6050967575795596|\n",
            "+---------------+------------------+\n",
            "only showing top 20 rows\n",
            "\n"
          ]
        }
      ]
    },
    {
      "cell_type": "code",
      "source": [
        "tweets_df.show(5)"
      ],
      "metadata": {
        "colab": {
          "base_uri": "https://localhost:8080/"
        },
        "id": "N1sXFiklWDCG",
        "outputId": "f284df83-241c-4823-9f44-6dd9dfac2bb3"
      },
      "execution_count": 56,
      "outputs": [
        {
          "output_type": "stream",
          "name": "stdout",
          "text": [
            "+----------+-------------------+--------+-------------+--------------------+--------------------+---------+-----------------+---------------+\n",
            "|  tweet_id|          timestamp|   query|     username|                text|          clean_text|sentiment|timestamp_numeric|       features|\n",
            "+----------+-------------------+--------+-------------+--------------------+--------------------+---------+-----------------+---------------+\n",
            "|1467810672|2009-04-07 05:19:49|NO_QUERY|scotthamilton|is upset that he ...|is upset that he ...|  neutral|       1239081589|[1.239081589E9]|\n",
            "|1467810917|2009-04-07 05:19:53|NO_QUERY|     mattycus|@Kenichan I dived...|kenichan i dived ...| positive|       1239081593|[1.239081593E9]|\n",
            "|1467811184|2009-04-07 05:19:57|NO_QUERY|      ElleCTF|my whole body fee...|my whole body fee...| positive|       1239081597|[1.239081597E9]|\n",
            "|1467811193|2009-04-07 05:19:57|NO_QUERY|       Karoli|@nationwideclass ...|nationwideclass n...| negative|       1239081597|[1.239081597E9]|\n",
            "|1467811372|2009-04-07 05:20:00|NO_QUERY|     joy_wolf|@Kwesidei not the...|kwesidei not the ...| positive|       1239081600|  [1.2390816E9]|\n",
            "+----------+-------------------+--------+-------------+--------------------+--------------------+---------+-----------------+---------------+\n",
            "only showing top 5 rows\n",
            "\n"
          ]
        }
      ]
    },
    {
      "cell_type": "code",
      "source": [
        "# import pandas as pd\n",
        "# import pmdarima as pm\n",
        "\n",
        "# # Convert Spark DataFrame to Pandas DataFrame\n",
        "# tweets_pd_df = tweets_df.select(\"timestamp\", \"sentiment\").toPandas()\n",
        "\n",
        "# # Set timestamp as index\n",
        "# tweets_pd_df[\"timestamp\"] = pd.to_datetime(tweets_pd_df[\"timestamp\"])\n",
        "# tweets_pd_df.set_index(\"timestamp\", inplace=True)\n",
        "\n"
      ],
      "metadata": {
        "id": "jVxDTU2oN5ng"
      },
      "execution_count": 1,
      "outputs": []
    },
    {
      "cell_type": "code",
      "source": [
        "# # Map sentiment labels to numeric values\n",
        "# sentiment_mapping = {\"positive\": 1, \"neutral\": 0, \"negative\": -1}\n",
        "# tweets_pd_df[\"sentiment_numeric\"] = tweets_pd_df[\"sentiment\"].map(sentiment_mapping)\n",
        "\n",
        "# # Fit ARIMA model\n",
        "# arima_model = pm.auto_arima(tweets_pd_df[\"sentiment_numeric\"], seasonal=False)\n",
        "\n",
        "# # Forecast\n",
        "# forecast, conf_int = arima_model.predict(n_periods=10, return_conf_int=True)\n",
        "\n",
        "# # Print forecasts\n",
        "# print(\"ARIMA Forecast:\")\n",
        "# print(forecast)\n"
      ],
      "metadata": {
        "id": "C6sDw9vEUfnF"
      },
      "execution_count": 2,
      "outputs": []
    },
    {
      "cell_type": "code",
      "source": [],
      "metadata": {
        "id": "h0kXKdCxn88Q"
      },
      "execution_count": null,
      "outputs": []
    }
  ]
}